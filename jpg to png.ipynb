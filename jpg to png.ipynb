{
 "cells": [
  {
   "cell_type": "code",
   "execution_count": 8,
   "metadata": {},
   "outputs": [],
   "source": [
    "from PIL import Image \n",
    "import glob, os\n",
    "directory = \"C:/tiramizu-potholes/\"\n",
    "#directory2 = \"C:/Picture2/\"\n",
    "for infile in glob.glob(\"*.JPG\"):\n",
    "    file, ext = os.path.splitext(infile)\n",
    "    im = Image.open(infile)\n",
    "    #im = im.convert('RGB')\n",
    "    im.save(directory + file + \".png\", \"PNG\")\n",
    "for infile in glob.glob(\"*.jpg\"):\n",
    "    file, ext = os.path.splitext(infile)\n",
    "    im = Image.open(infile)\n",
    "    #im = im.convert('RGB')\n",
    "    im.save(directory + file + \".png\", \"PNG\")  \n",
    "for infile in glob.glob(\"*.JPEG\"):\n",
    "    file, ext = os.path.splitext(infile)\n",
    "    im = Image.open(infile)\n",
    "    #im = im.convert('RGB')\n",
    "    im.save(directory + file + \".png\", \"PNG\")\n",
    "for infile in glob.glob(\"*.jpeg\"):\n",
    "    file, ext = os.path.splitext(infile)\n",
    "    im = Image.open(infile)\n",
    "    #im = im.convert('RGB')\n",
    "    im.save(directory + file + \".png\", \"PNG\")"
   ]
  }
 ],
 "metadata": {
  "kernelspec": {
   "display_name": "Python 3",
   "language": "python",
   "name": "python3"
  },
  "language_info": {
   "codemirror_mode": {
    "name": "ipython",
    "version": 3
   },
   "file_extension": ".py",
   "mimetype": "text/x-python",
   "name": "python",
   "nbconvert_exporter": "python",
   "pygments_lexer": "ipython3",
   "version": "3.6.0"
  }
 },
 "nbformat": 4,
 "nbformat_minor": 2
}
